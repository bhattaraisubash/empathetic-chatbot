{
 "cells": [
  {
   "cell_type": "code",
   "execution_count": 23,
   "id": "108706c4-cf26-419c-9eb7-07c5b3be2101",
   "metadata": {},
   "outputs": [],
   "source": [
    "import pandas as pd\n",
    "import matplotlib.pyplot as plt\n",
    "from sklearn.metrics import ConfusionMatrixDisplay, confusion_matrix, precision_score, recall_score, f1_score"
   ]
  },
  {
   "cell_type": "code",
   "execution_count": 24,
   "id": "9e7df0d8-242a-46ff-a670-38926a70ce25",
   "metadata": {},
   "outputs": [
    {
     "data": {
      "text/html": [
       "<div>\n",
       "<style scoped>\n",
       "    .dataframe tbody tr th:only-of-type {\n",
       "        vertical-align: middle;\n",
       "    }\n",
       "\n",
       "    .dataframe tbody tr th {\n",
       "        vertical-align: top;\n",
       "    }\n",
       "\n",
       "    .dataframe thead th {\n",
       "        text-align: right;\n",
       "    }\n",
       "</style>\n",
       "<table border=\"1\" class=\"dataframe\">\n",
       "  <thead>\n",
       "    <tr style=\"text-align: right;\">\n",
       "      <th></th>\n",
       "      <th>prompt</th>\n",
       "      <th>context</th>\n",
       "      <th>response</th>\n",
       "      <th>emotionally_supportive</th>\n",
       "      <th>supportive_actual</th>\n",
       "    </tr>\n",
       "  </thead>\n",
       "  <tbody>\n",
       "    <tr>\n",
       "      <th>0</th>\n",
       "      <td>Bombed the presentation. Feeling terrified of ...</td>\n",
       "      <td>Terrified</td>\n",
       "      <td>i am glad you are okay</td>\n",
       "      <td>1</td>\n",
       "      <td>1</td>\n",
       "    </tr>\n",
       "    <tr>\n",
       "      <th>1</th>\n",
       "      <td>Aced a difficult exam! Feeling joyful and proud.</td>\n",
       "      <td>Joyful</td>\n",
       "      <td>i know_comma_ i felt so bad for the first time</td>\n",
       "      <td>1</td>\n",
       "      <td>1</td>\n",
       "    </tr>\n",
       "    <tr>\n",
       "      <th>2</th>\n",
       "      <td>Feeling lonely and isolated in my dorm.</td>\n",
       "      <td>Lonely</td>\n",
       "      <td>i am sorry to hear that</td>\n",
       "      <td>1</td>\n",
       "      <td>1</td>\n",
       "    </tr>\n",
       "    <tr>\n",
       "      <th>3</th>\n",
       "      <td>Grateful for the support of my friends.</td>\n",
       "      <td>Grateful</td>\n",
       "      <td>i am sure you will be happy for the best</td>\n",
       "      <td>1</td>\n",
       "      <td>1</td>\n",
       "    </tr>\n",
       "    <tr>\n",
       "      <th>4</th>\n",
       "      <td>Feeling disgusted by a mess someone left in th...</td>\n",
       "      <td>Disgusted</td>\n",
       "      <td>can not even if i found a hair in it</td>\n",
       "      <td>1</td>\n",
       "      <td>1</td>\n",
       "    </tr>\n",
       "  </tbody>\n",
       "</table>\n",
       "</div>"
      ],
      "text/plain": [
       "                                              prompt    context  \\\n",
       "0  Bombed the presentation. Feeling terrified of ...  Terrified   \n",
       "1   Aced a difficult exam! Feeling joyful and proud.     Joyful   \n",
       "2            Feeling lonely and isolated in my dorm.     Lonely   \n",
       "3            Grateful for the support of my friends.   Grateful   \n",
       "4  Feeling disgusted by a mess someone left in th...  Disgusted   \n",
       "\n",
       "                                          response  emotionally_supportive  \\\n",
       "0                          i am glad you are okay                        1   \n",
       "1  i know_comma_ i felt so bad for the first time                        1   \n",
       "2                         i am sorry to hear that                        1   \n",
       "3        i am sure you will be happy for the best                        1   \n",
       "4            can not even if i found a hair in it                        1   \n",
       "\n",
       "   supportive_actual  \n",
       "0                  1  \n",
       "1                  1  \n",
       "2                  1  \n",
       "3                  1  \n",
       "4                  1  "
      ]
     },
     "execution_count": 24,
     "metadata": {},
     "output_type": "execute_result"
    }
   ],
   "source": [
    "report = pd.read_csv('analysis_responses.csv')\n",
    "\n",
    "report.head()"
   ]
  },
  {
   "cell_type": "code",
   "execution_count": 31,
   "id": "1bffcdf7-12fa-4f18-9a96-d0390537d578",
   "metadata": {},
   "outputs": [],
   "source": [
    "is_supportive = report['emotionally_supportive']\n",
    "supportive_actual = report['supportive_actual']"
   ]
  },
  {
   "cell_type": "code",
   "execution_count": 35,
   "id": "cef5c54f-924e-4ccc-a862-1b0b0134ea80",
   "metadata": {},
   "outputs": [
    {
     "name": "stdout",
     "output_type": "stream",
     "text": [
      "CONFUSION MATRIX\n",
      "[[  0   0]\n",
      " [ 18 173]]\n"
     ]
    }
   ],
   "source": [
    "cm = confusion_matrix(supportive_actual, is_supportive)\n",
    "\n",
    "print(\"CONFUSION MATRIX\")\n",
    "print(cm)"
   ]
  },
  {
   "cell_type": "code",
   "execution_count": 33,
   "id": "767c56cd-9300-412b-914f-99b1e697ebd3",
   "metadata": {},
   "outputs": [
    {
     "name": "stdout",
     "output_type": "stream",
     "text": [
      "\n",
      "Precision: 1.0\n",
      "Recall: 0.9057591623036649\n",
      "F1-Score: 0.9505494505494505\n"
     ]
    }
   ],
   "source": [
    "tp = cm[1, 1]  # True Positives (correctly classified supportive)\n",
    "tn = cm[0, 0]  # True Negatives (correctly classified non-supportive)\n",
    "fp = cm[0, 1]  # False Positives (incorrectly classified supportive)\n",
    "fn = cm[1, 0]  # False Negatives (incorrectly classified non-supportive)\n",
    "\n",
    "# Calculate Precision, Recall, and F1-score (using values from confusion matrix)\n",
    "precision = tp / (tp + fp)\n",
    "recall = tp / (tp + fn)\n",
    "f1 = 2 * (precision * recall) / (precision + recall)\n",
    "\n",
    "# Print the results (optional)\n",
    "print(\"\\nPrecision:\", precision)\n",
    "print(\"Recall:\", recall)\n",
    "print(\"F1-Score:\", f1)"
   ]
  },
  {
   "cell_type": "code",
   "execution_count": 34,
   "id": "444b033c-0c66-4b70-936f-9da20e45a87b",
   "metadata": {},
   "outputs": [
    {
     "data": {
      "image/png": "[encoded data removed]",
      "text/plain": [
       "<Figure size 640x480 with 2 Axes>"
      ]
     },
     "metadata": {},
     "output_type": "display_data"
    }
   ],
   "source": [
    "ConfusionMatrixDisplay.from_predictions(supportive_actual, is_supportive)\n",
    "\n",
    "plt.show()"
   ]
  },
  {
   "cell_type": "code",
   "execution_count": null,
   "id": "7ea94707-8a5f-4114-96f4-aebfbd4d5213",
   "metadata": {},
   "outputs": [],
   "source": []
  }
 ],
 "metadata": {
  "kernelspec": {
   "display_name": "Python 3 (ipykernel)",
   "language": "python",
   "name": "python3"
  },
  "language_info": {
   "codemirror_mode": {
    "name": "ipython",
    "version": 3
   },
   "file_extension": ".py",
   "mimetype": "text/x-python",
   "name": "python",
   "nbconvert_exporter": "python",
   "pygments_lexer": "ipython3",
   "version": "3.9.18"
  }
 },
 "nbformat": 4,
 "nbformat_minor": 5
}
