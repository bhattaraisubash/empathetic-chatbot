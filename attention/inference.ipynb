{
 "cells": [
  {
   "cell_type": "code",
   "execution_count": 1,
   "id": "d5841205-9744-4d4f-9743-2fc9648ffa35",
   "metadata": {},
   "outputs": [],
   "source": [
    "import re\n",
    "import json\n",
    "import traceback\n",
    "import numpy as np\n",
    "import matplotlib.pyplot as plt\n",
    "import tensorflow as tf\n",
    "from tensorflow.keras.layers import Layer\n",
    "from tensorflow.keras.models import Model, load_model\n",
    "from tensorflow.keras.preprocessing.sequence import pad_sequences\n",
    "from tensorflow.keras.layers import Dense, Embedding, LSTM, Input, Bidirectional, Concatenate, Dropout, Attention\n",
    "from tensorflow.keras import backend as K"
   ]
  },
  {
   "cell_type": "code",
   "execution_count": 2,
   "id": "f652d103-0dfd-4782-a43a-99df1f9e0271",
   "metadata": {},
   "outputs": [],
   "source": [
    "class AttentionLayer(Layer):\n",
    "    \"\"\"\n",
    "    This class implements Bahdanau attention (https://arxiv.org/pdf/1409.0473.pdf).\n",
    "    There are three sets of weights introduced W_a, U_a, and V_a\n",
    "     \"\"\"\n",
    "\n",
    "    def __init__(self, **kwargs):\n",
    "        super(AttentionLayer, self).__init__(**kwargs)\n",
    "\n",
    "    def build(self, input_shape):\n",
    "        assert isinstance(input_shape, list)\n",
    "        # Create a trainable weight variable for this layer.\n",
    "\n",
    "        self.W_a = self.add_weight(name='W_a',\n",
    "                                   shape=tf.TensorShape((input_shape[0][2], input_shape[0][2])),\n",
    "                                   initializer='uniform',\n",
    "                                   trainable=True)\n",
    "        self.U_a = self.add_weight(name='U_a',\n",
    "                                   shape=tf.TensorShape((input_shape[1][2], input_shape[0][2])),\n",
    "                                   initializer='uniform',\n",
    "                                   trainable=True)\n",
    "        self.V_a = self.add_weight(name='V_a',\n",
    "                                   shape=tf.TensorShape((input_shape[0][2], 1)),\n",
    "                                   initializer='uniform',\n",
    "                                   trainable=True)\n",
    "\n",
    "        super(AttentionLayer, self).build(input_shape)  # Be sure to call this at the end\n",
    "\n",
    "    def call(self, inputs, verbose=False):\n",
    "        \"\"\"\n",
    "        inputs: [encoder_output_sequence, decoder_output_sequence]\n",
    "        \"\"\"\n",
    "        assert type(inputs) == list\n",
    "        encoder_out_seq, decoder_out_seq = inputs\n",
    "        if verbose:\n",
    "            print('encoder_out_seq>', encoder_out_seq.shape)\n",
    "            print('decoder_out_seq>', decoder_out_seq.shape)\n",
    "\n",
    "        def energy_step(inputs, states):\n",
    "            \"\"\" Step function for computing energy for a single decoder state\n",
    "            inputs: (batchsize * 1 * de_in_dim)\n",
    "            states: (batchsize * 1 * de_latent_dim)\n",
    "            \"\"\"\n",
    "\n",
    "            assert_msg = \"States must be an iterable. Got {} of type {}\".format(states, type(states))\n",
    "            assert isinstance(states, list) or isinstance(states, tuple), assert_msg\n",
    "\n",
    "            \"\"\" Some parameters required for shaping tensors\"\"\"\n",
    "            en_seq_len, en_hidden = encoder_out_seq.shape[1], encoder_out_seq.shape[2]\n",
    "            de_hidden = inputs.shape[-1]\n",
    "\n",
    "            \"\"\" Computing S.Wa where S=[s0, s1, ..., si]\"\"\"\n",
    "            # <= batch size * en_seq_len * latent_dim\n",
    "            W_a_dot_s = K.dot(encoder_out_seq, self.W_a)\n",
    "\n",
    "            \"\"\" Computing hj.Ua \"\"\"\n",
    "            U_a_dot_h = K.expand_dims(K.dot(inputs, self.U_a), 1)  # <= batch_size, 1, latent_dim\n",
    "            if verbose:\n",
    "                print('Ua.h>', U_a_dot_h.shape)\n",
    "\n",
    "            \"\"\" tanh(S.Wa + hj.Ua) \"\"\"\n",
    "            # <= batch_size*en_seq_len, latent_dim\n",
    "            Ws_plus_Uh = K.tanh(W_a_dot_s + U_a_dot_h)\n",
    "            if verbose:\n",
    "                print('Ws+Uh>', Ws_plus_Uh.shape)\n",
    "\n",
    "            \"\"\" softmax(va.tanh(S.Wa + hj.Ua)) \"\"\"\n",
    "            # <= batch_size, en_seq_len\n",
    "            e_i = K.squeeze(K.dot(Ws_plus_Uh, self.V_a), axis=-1)\n",
    "            # <= batch_size, en_seq_len\n",
    "            e_i = K.softmax(e_i)\n",
    "\n",
    "            if verbose:\n",
    "                print('ei>', e_i.shape)\n",
    "\n",
    "            return e_i, [e_i]\n",
    "\n",
    "        def context_step(inputs, states):\n",
    "            \"\"\" Step function for computing ci using ei \"\"\"\n",
    "\n",
    "            assert_msg = \"States must be an iterable. Got {} of type {}\".format(states, type(states))\n",
    "            assert isinstance(states, list) or isinstance(states, tuple), assert_msg\n",
    "\n",
    "            # <= batch_size, hidden_size\n",
    "            c_i = K.sum(encoder_out_seq * K.expand_dims(inputs, -1), axis=1)\n",
    "            if verbose:\n",
    "                print('ci>', c_i.shape)\n",
    "            return c_i, [c_i]\n",
    "\n",
    "        fake_state_c = K.sum(encoder_out_seq, axis=1)\n",
    "        fake_state_e = K.sum(encoder_out_seq, axis=2)  # <= (batch_size, enc_seq_len, latent_dim\n",
    "\n",
    "        \"\"\" Computing energy outputs \"\"\"\n",
    "        # e_outputs => (batch_size, de_seq_len, en_seq_len)\n",
    "        last_out, e_outputs, _ = K.rnn(\n",
    "            energy_step, decoder_out_seq, [fake_state_e],\n",
    "        )\n",
    "\n",
    "        \"\"\" Computing context vectors \"\"\"\n",
    "        last_out, c_outputs, _ = K.rnn(\n",
    "            context_step, e_outputs, [fake_state_c],\n",
    "        )\n",
    "\n",
    "        return c_outputs, e_outputs\n",
    "\n",
    "    def compute_output_shape(self, input_shape):\n",
    "        \"\"\" Outputs produced by the layer \"\"\"\n",
    "        return [\n",
    "            tf.TensorShape((input_shape[1][0], input_shape[1][1], input_shape[1][2])),\n",
    "            tf.TensorShape((input_shape[1][0], input_shape[1][1], input_shape[0][1]))\n",
    "        ]"
   ]
  },
  {
   "cell_type": "code",
   "execution_count": 3,
   "id": "5ecfa71c-654a-4994-bc75-5854c06d6884",
   "metadata": {},
   "outputs": [],
   "source": [
    "def expand_contractions_and_clean(text):\n",
    "    # mapping of contractions to their expanded forms\n",
    "    contractions = {\n",
    "        r\"i'm\": \"i am\",\n",
    "        r\"he's\": \"he is\",\n",
    "        r\"she's\": \"she is\",\n",
    "        r\"that's\": \"that is\",\n",
    "        r\"what's\": \"what is\",\n",
    "        r\"where's\": \"where is\",\n",
    "        r\"\\'ll\": \" will\",\n",
    "        r\"\\'ve\": \" have\",\n",
    "        r\"\\'re\": \" are\",\n",
    "        r\"\\'d\": \" would\",\n",
    "        r\"won't\": \"will not\",\n",
    "        r\"can't\": \"can not\",\n",
    "    }\n",
    "    \n",
    "    text = text.lower()\n",
    "    \n",
    "    # expand contractions\n",
    "    for contraction, expansion in contractions.items():\n",
    "        text = re.sub(contraction, expansion, text)\n",
    "    \n",
    "    # remove punctuation\n",
    "    text = re.sub(r\"[^\\w\\s]\", \"\", text)\n",
    "    \n",
    "    return text"
   ]
  },
  {
   "cell_type": "code",
   "execution_count": 4,
   "id": "2af8aabe-0cca-4018-b49a-27dda2ce533c",
   "metadata": {},
   "outputs": [
    {
     "name": "stdout",
     "output_type": "stream",
     "text": [
      "Metal device set to: Apple M1\n"
     ]
    },
    {
     "name": "stderr",
     "output_type": "stream",
     "text": [
      "2024-08-02 10:47:45.048789: I tensorflow/core/common_runtime/pluggable_device/pluggable_device_factory.cc:306] Could not identify NUMA node of platform GPU ID 0, defaulting to 0. Your kernel may not have been built with NUMA support.\n",
      "2024-08-02 10:47:45.049193: I tensorflow/core/common_runtime/pluggable_device/pluggable_device_factory.cc:272] Created TensorFlow device (/job:localhost/replica:0/task:0/device:GPU:0 with 0 MB memory) -> physical PluggableDevice (device: 0, name: METAL, pci bus id: <undefined>)\n"
     ]
    },
    {
     "name": "stdout",
     "output_type": "stream",
     "text": [
      "Model: \"model\"\n",
      "__________________________________________________________________________________________________\n",
      " Layer (type)                   Output Shape         Param #     Connected to                     \n",
      "==================================================================================================\n",
      " decoder_input_layer (InputLaye  [(None, 23)]        0           []                               \n",
      " r)                                                                                               \n",
      "                                                                                                  \n",
      " encoder_input_layer (InputLaye  [(None, 23)]        0           []                               \n",
      " r)                                                                                               \n",
      "                                                                                                  \n",
      " embedding (Embedding)          (None, 23, 100)      965800      ['encoder_input_layer[0][0]',    \n",
      "                                                                  'decoder_input_layer[0][0]']    \n",
      "                                                                                                  \n",
      " encoder_bidirectional_lstm (Bi  [(None, 23, 512),   731136      ['embedding[0][0]']              \n",
      " directional)                    (None, 256),                                                     \n",
      "                                 (None, 256),                                                     \n",
      "                                 (None, 256),                                                     \n",
      "                                 (None, 256)]                                                     \n",
      "                                                                                                  \n",
      " state_h_concat (Concatenate)   (None, 512)          0           ['encoder_bidirectional_lstm[0][1\n",
      "                                                                 ]',                              \n",
      "                                                                  'encoder_bidirectional_lstm[0][3\n",
      "                                                                 ]']                              \n",
      "                                                                                                  \n",
      " state_c_concat (Concatenate)   (None, 512)          0           ['encoder_bidirectional_lstm[0][2\n",
      "                                                                 ]',                              \n",
      "                                                                  'encoder_bidirectional_lstm[0][4\n",
      "                                                                 ]']                              \n",
      "                                                                                                  \n",
      " decoder_lstm_layer (LSTM)      [(None, 23, 512),    1255424     ['embedding[1][0]',              \n",
      "                                 (None, 512),                     'state_h_concat[0][0]',         \n",
      "                                 (None, 512)]                     'state_c_concat[0][0]']         \n",
      "                                                                                                  \n",
      " attention_layer (AttentionLaye  ((None, 23, 512),   524800      ['encoder_bidirectional_lstm[0][0\n",
      " r)                              (None, 23, 23))                 ]',                              \n",
      "                                                                  'decoder_lstm_layer[0][0]']     \n",
      "                                                                                                  \n",
      " decoder_concat_input_layer (Co  (None, 23, 1024)    0           ['decoder_lstm_layer[0][0]',     \n",
      " ncatenate)                                                       'attention_layer[0][0]']        \n",
      "                                                                                                  \n",
      " decoder_dense_layer (Dense)    (None, 23, 9657)     9898425     ['decoder_concat_input_layer[0][0\n",
      "                                                                 ]']                              \n",
      "                                                                                                  \n",
      "==================================================================================================\n",
      "Total params: 13,375,585\n",
      "Trainable params: 13,375,585\n",
      "Non-trainable params: 0\n",
      "__________________________________________________________________________________________________\n"
     ]
    }
   ],
   "source": [
    "model = load_model('chatbot.h5', custom_objects={'AttentionLayer': AttentionLayer})\n",
    "model.summary()"
   ]
  },
  {
   "cell_type": "code",
   "execution_count": 5,
   "id": "06d3499b-d38e-47d4-a8ce-0b6d52672ccd",
   "metadata": {},
   "outputs": [],
   "source": [
    "#load model history\n",
    "with open('chatbot_history.json', 'r') as f:\n",
    "    history = json.load(f)"
   ]
  },
  {
   "cell_type": "code",
   "execution_count": 6,
   "id": "a1ac88e1-f9f2-4932-971b-8fa09d0a4b86",
   "metadata": {},
   "outputs": [
    {
     "data": {
      "image/png": "[encoded data removed]",
      "text/plain": [
       "<Figure size 640x480 with 1 Axes>"
      ]
     },
     "metadata": {},
     "output_type": "display_data"
    }
   ],
   "source": [
    "plt.plot(history['sparse_categorical_accuracy'], label='accuracy')\n",
    "plt.plot(history['val_sparse_categorical_accuracy'], label='val_accuracy')\n",
    "plt.xlabel('Epoch')\n",
    "plt.ylabel('Accuracy')\n",
    "plt.ylim([0, 1])\n",
    "plt.legend(loc='lower right')\n",
    "plt.show()"
   ]
  },
  {
   "cell_type": "code",
   "execution_count": 7,
   "id": "01f17f0a-18ca-4f9b-a875-ad9f68aa1ac8",
   "metadata": {},
   "outputs": [
    {
     "data": {
      "text/plain": [
       "9657"
      ]
     },
     "execution_count": 7,
     "metadata": {},
     "output_type": "execute_result"
    }
   ],
   "source": [
    "#load vocab\n",
    "with open('vocab.json', 'r', encoding='utf-8') as f:\n",
    "    vocab = json.load(f)\n",
    "    \n",
    "inverse_vocab = {count: word for word, count in vocab.items()}\n",
    "len(vocab)"
   ]
  },
  {
   "cell_type": "code",
   "execution_count": 8,
   "id": "dfb18ac9-2fa0-4ec3-8d32-a8c3debf4ae0",
   "metadata": {},
   "outputs": [],
   "source": [
    "MAX_LENGTH = 23\n",
    "LSTM_UNITS = 256\n",
    "EMBEDDING_DIMENSION = 100\n",
    "VOCAB_SIZE = len(vocab)"
   ]
  },
  {
   "cell_type": "code",
   "execution_count": 9,
   "id": "32155e0e-587f-43e4-bc05-d6b89bc7d013",
   "metadata": {},
   "outputs": [
    {
     "name": "stdout",
     "output_type": "stream",
     "text": [
      "GloVe Loded!\n"
     ]
    }
   ],
   "source": [
    "embedding_index = {}\n",
    "with open('../dataset/glove/glove.6B.100d.txt', encoding='utf-8') as f:\n",
    "    for line in f:\n",
    "        values = line.split()\n",
    "        word = values[0]\n",
    "        coefs = np.asarray(values[1:], dtype='float32')\n",
    "        embedding_index[word] = coefs\n",
    "    f.close()\n",
    "\n",
    "print(\"GloVe Loded!\")"
   ]
  },
  {
   "cell_type": "code",
   "execution_count": 10,
   "id": "243529cd-fe4b-4400-bf96-4531fe84b197",
   "metadata": {},
   "outputs": [],
   "source": [
    "def embedding_matrix_creater(dimension, word_index):\n",
    "    embedding_matrix = np.zeros((len(word_index)+1, dimension))\n",
    "    for word, i in word_index.items():\n",
    "        embedding_vector = embedding_index.get(word)\n",
    "        if embedding_vector is not None:\n",
    "            embedding_matrix[i] = embedding_vector\n",
    "    return embedding_matrix\n",
    "\n",
    "embedding_matrix = embedding_matrix_creater(dimension=EMBEDDING_DIMENSION, word_index=vocab)"
   ]
  },
  {
   "cell_type": "code",
   "execution_count": 11,
   "id": "2207f1b2-b9e1-416c-b4c5-1a0ad3161e05",
   "metadata": {},
   "outputs": [],
   "source": [
    "embedding_layer = Embedding(VOCAB_SIZE+1, \n",
    "                  EMBEDDING_DIMENSION, \n",
    "                  input_length=MAX_LENGTH,\n",
    "                  trainable=True)\n",
    "\n",
    "embedding_layer.build((None,))\n",
    "embedding_layer.set_weights([embedding_matrix])"
   ]
  },
  {
   "cell_type": "code",
   "execution_count": 12,
   "id": "b2604934-f3df-4e7f-b2ec-aea74bdc8b1a",
   "metadata": {
    "scrolled": true
   },
   "outputs": [
    {
     "name": "stdout",
     "output_type": "stream",
     "text": [
      "Model: \"model\"\n",
      "__________________________________________________________________________________________________\n",
      " Layer (type)                   Output Shape         Param #     Connected to                     \n",
      "==================================================================================================\n",
      " decoder_input_layer (InputLaye  [(None, 23)]        0           []                               \n",
      " r)                                                                                               \n",
      "                                                                                                  \n",
      " encoder_input_layer (InputLaye  [(None, 23)]        0           []                               \n",
      " r)                                                                                               \n",
      "                                                                                                  \n",
      " embedding (Embedding)          (None, 23, 100)      965800      ['encoder_input_layer[0][0]',    \n",
      "                                                                  'decoder_input_layer[0][0]']    \n",
      "                                                                                                  \n",
      " encoder_bidirectional_lstm (Bi  [(None, 23, 512),   731136      ['embedding[0][0]']              \n",
      " directional)                    (None, 256),                                                     \n",
      "                                 (None, 256),                                                     \n",
      "                                 (None, 256),                                                     \n",
      "                                 (None, 256)]                                                     \n",
      "                                                                                                  \n",
      " state_h_concat (Concatenate)   (None, 512)          0           ['encoder_bidirectional_lstm[0][1\n",
      "                                                                 ]',                              \n",
      "                                                                  'encoder_bidirectional_lstm[0][3\n",
      "                                                                 ]']                              \n",
      "                                                                                                  \n",
      " state_c_concat (Concatenate)   (None, 512)          0           ['encoder_bidirectional_lstm[0][2\n",
      "                                                                 ]',                              \n",
      "                                                                  'encoder_bidirectional_lstm[0][4\n",
      "                                                                 ]']                              \n",
      "                                                                                                  \n",
      " decoder_lstm_layer (LSTM)      [(None, 23, 512),    1255424     ['embedding[1][0]',              \n",
      "                                 (None, 512),                     'state_h_concat[0][0]',         \n",
      "                                 (None, 512)]                     'state_c_concat[0][0]']         \n",
      "                                                                                                  \n",
      " attention_layer (AttentionLaye  ((None, 23, 512),   524800      ['encoder_bidirectional_lstm[0][0\n",
      " r)                              (None, 23, 23))                 ]',                              \n",
      "                                                                  'decoder_lstm_layer[0][0]']     \n",
      "                                                                                                  \n",
      " decoder_concat_input_layer (Co  (None, 23, 1024)    0           ['decoder_lstm_layer[0][0]',     \n",
      " ncatenate)                                                       'attention_layer[0][0]']        \n",
      "                                                                                                  \n",
      " decoder_dense_layer (Dense)    (None, 23, 9657)     9898425     ['decoder_concat_input_layer[0][0\n",
      "                                                                 ]']                              \n",
      "                                                                                                  \n",
      "==================================================================================================\n",
      "Total params: 13,375,585\n",
      "Trainable params: 13,375,585\n",
      "Non-trainable params: 0\n",
      "__________________________________________________________________________________________________\n"
     ]
    }
   ],
   "source": [
    "#building model\n",
    "encoder_input_layer = Input(shape=(MAX_LENGTH, ), name='encoder_input_layer')\n",
    "\n",
    "encoder_embedding_layer = embedding_layer(encoder_input_layer)\n",
    "encoder_bidirectional_lstm_layer = Bidirectional(LSTM(LSTM_UNITS, return_state=True, dropout=0.05, return_sequences = True, name='encoder_lstm_layer'), name='encoder_bidirectional_lstm')\n",
    "\n",
    "encoder_outputs, forward_h, forward_c, backward_h, backward_c = encoder_bidirectional_lstm_layer(encoder_embedding_layer)\n",
    "\n",
    "state_h = Concatenate(name='state_h_concat')([forward_h, backward_h])\n",
    "state_c = Concatenate(name='state_c_concat')([forward_c, backward_c])\n",
    "\n",
    "encoder_states = [state_h, state_c]\n",
    "\n",
    "decoder_input_layer = Input(shape=(MAX_LENGTH, ), name='decoder_input_layer')\n",
    "decoder_embedding_layer = embedding_layer(decoder_input_layer)\n",
    "decoder_lstm_layer = LSTM(LSTM_UNITS * 2, return_state=True, return_sequences=True, dropout=0.05, name='decoder_lstm_layer')\n",
    "decoder_outputs, _, _ = decoder_lstm_layer(decoder_embedding_layer, initial_state=encoder_states)\n",
    "\n",
    "# attention\n",
    "attention_layer = AttentionLayer(name='attention_layer')\n",
    "attention_output, attention_state = attention_layer([encoder_outputs, decoder_outputs])\n",
    "decoder_concat_input_layer = Concatenate(axis=-1, name='decoder_concat_input_layer')([decoder_outputs, attention_output])\n",
    "\n",
    "decoder_dense_layer = Dense(VOCAB_SIZE, activation='softmax', name='decoder_dense_layer')\n",
    "final_output_layer = decoder_dense_layer(decoder_concat_input_layer)\n",
    "\n",
    "model = Model([encoder_input_layer, decoder_input_layer], final_output_layer)\n",
    "\n",
    "model.summary()"
   ]
  },
  {
   "cell_type": "code",
   "execution_count": 13,
   "id": "f3686c09-9b20-43fe-9a83-eadebea09046",
   "metadata": {},
   "outputs": [],
   "source": [
    "#load saved_weights\n",
    "model.load_weights('chatbot_weights.h5')"
   ]
  },
  {
   "cell_type": "code",
   "execution_count": 14,
   "id": "b5bef132-83dd-4230-8c7a-f4a1ae84ffc7",
   "metadata": {},
   "outputs": [],
   "source": [
    "#model inference for generating responses\n",
    "inference_encoder_model = Model(encoder_input_layer, [encoder_outputs, encoder_states])\n",
    "\n",
    "inference_decoder_state_input_h = Input(shape=( LSTM_UNITS * 2,))\n",
    "inference_decoder_state_input_c = Input(shape=( LSTM_UNITS * 2,))\n",
    "\n",
    "inference_decoder_states_inputs = [inference_decoder_state_input_h, inference_decoder_state_input_c]\n",
    "\n",
    "\n",
    "inference_decoder_outputs, inference_state_h, inference_state_c = decoder_lstm_layer(decoder_embedding_layer , initial_state=inference_decoder_states_inputs)\n",
    "\n",
    "\n",
    "inference_decoder_states = [inference_state_h, inference_state_c]\n",
    "\n",
    "inference_decoder_model = Model(\n",
    "    [decoder_input_layer, inference_decoder_states_inputs],\n",
    "    [inference_decoder_outputs] + inference_decoder_states\n",
    ")"
   ]
  },
  {
   "cell_type": "code",
   "execution_count": 15,
   "id": "1001737b-c41e-44be-a131-66ce09db32c0",
   "metadata": {},
   "outputs": [
    {
     "name": "stdin",
     "output_type": "stream",
     "text": [
      "YOU :  I failed my exam - disappointed\n"
     ]
    },
    {
     "name": "stderr",
     "output_type": "stream",
     "text": [
      "2024-08-02 11:05:07.037959: W tensorflow/core/platform/profile_utils/cpu_utils.cc:128] Failed to get CPU frequency: 0 Hz\n",
      "2024-08-02 11:05:07.809299: I tensorflow/core/grappler/optimizers/custom_graph_optimizer_registry.cc:114] Plugin optimizer for device_type GPU is enabled.\n",
      "2024-08-02 11:05:07.958797: I tensorflow/core/grappler/optimizers/custom_graph_optimizer_registry.cc:114] Plugin optimizer for device_type GPU is enabled.\n",
      "2024-08-02 11:05:07.983232: I tensorflow/core/grappler/optimizers/custom_graph_optimizer_registry.cc:114] Plugin optimizer for device_type GPU is enabled.\n"
     ]
    },
    {
     "name": "stdout",
     "output_type": "stream",
     "text": [
      "1/1 [==============================] - 1s 1s/step\n",
      "WARNING:tensorflow:Model was constructed with shape (None, 23) for input KerasTensor(type_spec=TensorSpec(shape=(None, 23), dtype=tf.float32, name='decoder_input_layer'), name='decoder_input_layer', description=\"created by layer 'decoder_input_layer'\"), but it was called on an input with incompatible shape (None, 1).\n",
      "1/1 [==============================] - 0s 169ms/step\n"
     ]
    },
    {
     "name": "stderr",
     "output_type": "stream",
     "text": [
      "2024-08-02 11:05:08.359660: I tensorflow/core/grappler/optimizers/custom_graph_optimizer_registry.cc:114] Plugin optimizer for device_type GPU is enabled.\n",
      "2024-08-02 11:05:08.391873: I tensorflow/core/grappler/optimizers/custom_graph_optimizer_registry.cc:114] Plugin optimizer for device_type GPU is enabled.\n"
     ]
    },
    {
     "name": "stdout",
     "output_type": "stream",
     "text": [
      "1/1 [==============================] - 0s 10ms/step\n",
      "1/1 [==============================] - 0s 9ms/step\n",
      "1/1 [==============================] - 0s 9ms/step\n",
      "1/1 [==============================] - 0s 9ms/step\n",
      "1/1 [==============================] - 0s 10ms/step\n",
      "1/1 [==============================] - 0s 9ms/step\n",
      "1/1 [==============================] - 0s 9ms/step\n",
      "1/1 [==============================] - 0s 9ms/step\n",
      "1/1 [==============================] - 0s 9ms/step\n",
      "CHATBOT :  i didnt ask the exam there all the time \n"
     ]
    },
    {
     "name": "stdin",
     "output_type": "stream",
     "text": [
      "YOU :  I lost my pet - sad\n"
     ]
    },
    {
     "name": "stdout",
     "output_type": "stream",
     "text": [
      "1/1 [==============================] - 0s 34ms/step\n",
      "1/1 [==============================] - 0s 12ms/step\n",
      "1/1 [==============================] - 0s 9ms/step\n",
      "1/1 [==============================] - 0s 9ms/step\n",
      "1/1 [==============================] - 0s 12ms/step\n",
      "1/1 [==============================] - 0s 10ms/step\n",
      "1/1 [==============================] - 0s 9ms/step\n",
      "1/1 [==============================] - 0s 9ms/step\n",
      "1/1 [==============================] - 0s 10ms/step\n",
      "1/1 [==============================] - 0s 14ms/step\n",
      "1/1 [==============================] - 0s 10ms/step\n",
      "CHATBOT :  i lost my pet turtle i lost my dog \n"
     ]
    },
    {
     "name": "stdin",
     "output_type": "stream",
     "text": [
      "YOU :  My friends forgot my birthday - lonely\n"
     ]
    },
    {
     "name": "stdout",
     "output_type": "stream",
     "text": [
      "1/1 [==============================] - 0s 54ms/step\n",
      "1/1 [==============================] - 0s 13ms/step\n",
      "1/1 [==============================] - 0s 9ms/step\n",
      "1/1 [==============================] - 0s 9ms/step\n",
      "1/1 [==============================] - 0s 9ms/step\n",
      "1/1 [==============================] - 0s 10ms/step\n",
      "1/1 [==============================] - 0s 12ms/step\n",
      "1/1 [==============================] - 0s 14ms/step\n",
      "1/1 [==============================] - 0s 10ms/step\n",
      "1/1 [==============================] - 0s 9ms/step\n",
      "1/1 [==============================] - 0s 10ms/step\n",
      "1/1 [==============================] - 0s 10ms/step\n",
      "1/1 [==============================] - 0s 10ms/step\n",
      "1/1 [==============================] - 0s 10ms/step\n",
      "1/1 [==============================] - 0s 9ms/step\n",
      "1/1 [==============================] - 0s 10ms/step\n",
      "1/1 [==============================] - 0s 9ms/step\n",
      "1/1 [==============================] - 0s 9ms/step\n",
      "1/1 [==============================] - 0s 9ms/step\n",
      "1/1 [==============================] - 0s 9ms/step\n",
      "1/1 [==============================] - 0s 9ms/step\n",
      "CHATBOT :  my friends wife were invited some of the best days of a week i am really sorry to him \n"
     ]
    },
    {
     "name": "stdin",
     "output_type": "stream",
     "text": [
      "YOU :  I finished my project early - proud\n"
     ]
    },
    {
     "name": "stdout",
     "output_type": "stream",
     "text": [
      "1/1 [==============================] - 0s 51ms/step\n",
      "1/1 [==============================] - 0s 11ms/step\n",
      "1/1 [==============================] - 0s 10ms/step\n",
      "1/1 [==============================] - 0s 18ms/step\n",
      "1/1 [==============================] - 0s 9ms/step\n",
      "1/1 [==============================] - 0s 9ms/step\n",
      "1/1 [==============================] - 0s 9ms/step\n",
      "1/1 [==============================] - 0s 9ms/step\n",
      "CHATBOT :  i finished my work project today \n"
     ]
    },
    {
     "name": "stdin",
     "output_type": "stream",
     "text": [
      "YOU :  I'm confident about my skills - confident\n"
     ]
    },
    {
     "name": "stdout",
     "output_type": "stream",
     "text": [
      "1/1 [==============================] - 0s 37ms/step\n",
      "1/1 [==============================] - 0s 22ms/step\n",
      "1/1 [==============================] - 0s 9ms/step\n",
      "1/1 [==============================] - 0s 11ms/step\n",
      "1/1 [==============================] - 0s 11ms/step\n",
      "1/1 [==============================] - 0s 10ms/step\n",
      "1/1 [==============================] - 0s 13ms/step\n",
      "1/1 [==============================] - 0s 10ms/step\n",
      "1/1 [==============================] - 0s 9ms/step\n",
      "1/1 [==============================] - 0s 10ms/step\n",
      "1/1 [==============================] - 0s 11ms/step\n",
      "1/1 [==============================] - 0s 10ms/step\n",
      "1/1 [==============================] - 0s 10ms/step\n",
      "1/1 [==============================] - 0s 10ms/step\n",
      "1/1 [==============================] - 0s 10ms/step\n",
      "1/1 [==============================] - 0s 9ms/step\n",
      "1/1 [==============================] - 0s 11ms/step\n",
      "1/1 [==============================] - 0s 9ms/step\n",
      "1/1 [==============================] - 0s 9ms/step\n",
      "1/1 [==============================] - 0s 10ms/step\n",
      "1/1 [==============================] - 0s 10ms/step\n",
      "1/1 [==============================] - 0s 9ms/step\n",
      "1/1 [==============================] - 0s 9ms/step\n",
      "1/1 [==============================] - 0s 9ms/step\n",
      "1/1 [==============================] - 0s 9ms/step\n",
      "CHATBOT :  i am not able to call the call i if i work i am going to call my boss for a long <PAD> <PAD> \n"
     ]
    },
    {
     "name": "stdin",
     "output_type": "stream",
     "text": [
      "YOU :  I feel betrayed by my friend - hurt\n"
     ]
    },
    {
     "name": "stdout",
     "output_type": "stream",
     "text": [
      "1/1 [==============================] - 0s 38ms/step\n",
      "1/1 [==============================] - 0s 11ms/step\n",
      "1/1 [==============================] - 0s 9ms/step\n",
      "1/1 [==============================] - 0s 15ms/step\n",
      "1/1 [==============================] - 0s 10ms/step\n",
      "1/1 [==============================] - 0s 9ms/step\n",
      "1/1 [==============================] - 0s 9ms/step\n",
      "1/1 [==============================] - 0s 9ms/step\n",
      "1/1 [==============================] - 0s 13ms/step\n",
      "1/1 [==============================] - 0s 9ms/step\n",
      "1/1 [==============================] - 0s 10ms/step\n",
      "CHATBOT :  i have seen my friends in a <OUT> country \n"
     ]
    },
    {
     "name": "stdin",
     "output_type": "stream",
     "text": [
      "YOU :  I didn't do well on my exam - disappointed\n"
     ]
    },
    {
     "name": "stdout",
     "output_type": "stream",
     "text": [
      "1/1 [==============================] - 0s 54ms/step\n",
      "1/1 [==============================] - 0s 13ms/step\n",
      "1/1 [==============================] - 0s 10ms/step\n",
      "1/1 [==============================] - 0s 10ms/step\n",
      "1/1 [==============================] - 0s 10ms/step\n",
      "1/1 [==============================] - 0s 10ms/step\n",
      "1/1 [==============================] - 0s 10ms/step\n",
      "1/1 [==============================] - 0s 9ms/step\n",
      "1/1 [==============================] - 0s 9ms/step\n",
      "1/1 [==============================] - 0s 10ms/step\n",
      "1/1 [==============================] - 0s 10ms/step\n",
      "1/1 [==============================] - 0s 12ms/step\n",
      "1/1 [==============================] - 0s 9ms/step\n",
      "CHATBOT :  i didnt get an extra exam offer but didnt do that \n"
     ]
    },
    {
     "name": "stdin",
     "output_type": "stream",
     "text": [
      "YOU :  I'm nervous about my presentation - anxious\n"
     ]
    },
    {
     "name": "stdout",
     "output_type": "stream",
     "text": [
      "1/1 [==============================] - 0s 39ms/step\n",
      "1/1 [==============================] - 0s 12ms/step\n",
      "1/1 [==============================] - 0s 10ms/step\n",
      "1/1 [==============================] - 0s 10ms/step\n",
      "1/1 [==============================] - 0s 9ms/step\n",
      "1/1 [==============================] - 0s 9ms/step\n",
      "1/1 [==============================] - 0s 10ms/step\n",
      "1/1 [==============================] - 0s 9ms/step\n",
      "1/1 [==============================] - 0s 9ms/step\n",
      "1/1 [==============================] - 0s 9ms/step\n",
      "1/1 [==============================] - 0s 13ms/step\n",
      "1/1 [==============================] - 0s 11ms/step\n",
      "1/1 [==============================] - 0s 11ms/step\n",
      "1/1 [==============================] - 0s 10ms/step\n",
      "1/1 [==============================] - 0s 10ms/step\n",
      "1/1 [==============================] - 0s 9ms/step\n",
      "1/1 [==============================] - 0s 9ms/step\n",
      "1/1 [==============================] - 0s 9ms/step\n",
      "1/1 [==============================] - 0s 9ms/step\n",
      "CHATBOT :  i am nervous about my spouse giving it in front of a field that i have applied \n"
     ]
    },
    {
     "name": "stdin",
     "output_type": "stream",
     "text": [
      "YOU :  I'm struggling to understand this topic - frustrated\n"
     ]
    },
    {
     "name": "stdout",
     "output_type": "stream",
     "text": [
      "1/1 [==============================] - 0s 50ms/step\n",
      "1/1 [==============================] - 0s 11ms/step\n",
      "1/1 [==============================] - 0s 10ms/step\n",
      "1/1 [==============================] - 0s 9ms/step\n",
      "1/1 [==============================] - 0s 9ms/step\n",
      "1/1 [==============================] - 0s 9ms/step\n",
      "1/1 [==============================] - 0s 11ms/step\n",
      "1/1 [==============================] - 0s 9ms/step\n",
      "1/1 [==============================] - 0s 9ms/step\n",
      "1/1 [==============================] - 0s 11ms/step\n",
      "1/1 [==============================] - 0s 11ms/step\n",
      "1/1 [==============================] - 0s 13ms/step\n",
      "1/1 [==============================] - 0s 9ms/step\n",
      "1/1 [==============================] - 0s 9ms/step\n",
      "1/1 [==============================] - 0s 10ms/step\n",
      "1/1 [==============================] - 0s 11ms/step\n",
      "CHATBOT :  i am starting my <OUT> soon law and what i am talking about it \n"
     ]
    },
    {
     "name": "stdin",
     "output_type": "stream",
     "text": [
      "YOU :  I'm worried about failing this course - terrified\n"
     ]
    },
    {
     "name": "stdout",
     "output_type": "stream",
     "text": [
      "1/1 [==============================] - 0s 50ms/step\n",
      "1/1 [==============================] - 0s 12ms/step\n",
      "1/1 [==============================] - 0s 10ms/step\n",
      "1/1 [==============================] - 0s 9ms/step\n",
      "1/1 [==============================] - 0s 10ms/step\n",
      "1/1 [==============================] - 0s 9ms/step\n",
      "1/1 [==============================] - 0s 9ms/step\n",
      "1/1 [==============================] - 0s 10ms/step\n",
      "1/1 [==============================] - 0s 9ms/step\n",
      "1/1 [==============================] - 0s 9ms/step\n",
      "1/1 [==============================] - 0s 9ms/step\n",
      "1/1 [==============================] - 0s 9ms/step\n",
      "1/1 [==============================] - 0s 9ms/step\n",
      "1/1 [==============================] - 0s 10ms/step\n",
      "1/1 [==============================] - 0s 10ms/step\n",
      "1/1 [==============================] - 0s 9ms/step\n",
      "1/1 [==============================] - 0s 9ms/step\n",
      "CHATBOT :  i am worried i will have to walk through one of my classes this week \n"
     ]
    },
    {
     "name": "stdin",
     "output_type": "stream",
     "text": [
      "YOU :  bye\n"
     ]
    },
    {
     "name": "stdout",
     "output_type": "stream",
     "text": [
      "1/1 [==============================] - 0s 183ms/step\n",
      "1/1 [==============================] - 0s 22ms/step\n",
      "1/1 [==============================] - 0s 10ms/step\n",
      "1/1 [==============================] - 0s 11ms/step\n",
      "1/1 [==============================] - 0s 9ms/step\n",
      "1/1 [==============================] - 0s 10ms/step\n",
      "1/1 [==============================] - 0s 10ms/step\n",
      "1/1 [==============================] - 0s 10ms/step\n",
      "CHATBOT :  pet <OUT> red and <OUT> <OUT> \n"
     ]
    },
    {
     "name": "stdin",
     "output_type": "stream",
     "text": [
      "YOU :  exit\n"
     ]
    },
    {
     "name": "stdout",
     "output_type": "stream",
     "text": [
      "Bye! Talk to you later.\n"
     ]
    }
   ],
   "source": [
    "separator = '-'\n",
    "input_text = \"\"\n",
    "while input_text != 'exit':\n",
    "    input_text = input(\"YOU : \")\n",
    "    if(input_text == 'exit'):\n",
    "        print(\"Bye! Talk to you later.\")\n",
    "    else:\n",
    "        try:\n",
    "            if separator in input_text:\n",
    "                prompt, context = input_text.split(separator, 1)  # split only on the first occurrence\n",
    "            else:\n",
    "                prompt = input_text\n",
    "                context = \"joyful\"\n",
    "                \n",
    "            input_cleaned = expand_contractions_and_clean(prompt.strip()) + ' <SEP> ' + context.strip()\n",
    "            input_cleaned = [input_cleaned]\n",
    "            \n",
    "            text = []\n",
    "            for x in input_cleaned:\n",
    "                lst = []\n",
    "                for y in x.split():\n",
    "                    try:\n",
    "                        lst.append(vocab[y])\n",
    "                    except:\n",
    "                        lst.append(vocab['<OUT>'])\n",
    "                text.append(lst)\n",
    "            text = pad_sequences(text, MAX_LENGTH, padding='post')\n",
    "    \n",
    "            inference_encoder_output, inference_encoder_states = inference_encoder_model.predict( text )\n",
    "    \n",
    "            empty_target_seq = np.zeros( ( 1 , 1) )\n",
    "            empty_target_seq[0, 0] = vocab['<SOS>']\n",
    "            stop_condition = False\n",
    "            decoded_translation = ''\n",
    "    \n",
    "            while not stop_condition :\n",
    "                inference_decoder_outputs , h , c = inference_decoder_model.predict([ empty_target_seq ] + inference_encoder_states )\n",
    "\n",
    "                #attention part\n",
    "                inference_attention_output, inference_attention_states = attention_layer([inference_encoder_output, inference_decoder_outputs])\n",
    "                inference_decoder_concat_input = Concatenate(axis=-1)([inference_decoder_outputs, inference_attention_output])\n",
    "                inference_decoder_concat_input = decoder_dense_layer(inference_decoder_concat_input)\n",
    "    \n",
    "                sampled_word_index = np.argmax( inference_decoder_concat_input[0, -1, :] )\n",
    "                sampled_word = inverse_vocab[sampled_word_index] + ' '\n",
    "    \n",
    "                if sampled_word != '<EOS> ':\n",
    "                    decoded_translation += sampled_word           \n",
    "    \n",
    "                if sampled_word == '<EOS> ' or len(decoded_translation.split()) > MAX_LENGTH:\n",
    "                    stop_condition = True\n",
    "    \n",
    "                empty_target_seq = np.zeros( ( 1 , 1 ) )  \n",
    "                empty_target_seq[ 0 , 0 ] = sampled_word_index\n",
    "                inference_encoder_states = [ h , c ] \n",
    "    \n",
    "            print(\"CHATBOT : \", decoded_translation )\n",
    "    \n",
    "        except Exception as e:\n",
    "            #print(\"I couldn't get you. Please try again.\")\n",
    "            print(e)\n",
    "            "
   ]
  },
  {
   "cell_type": "code",
   "execution_count": null,
   "id": "e14d321c-daee-4ed6-bc06-ca427f999649",
   "metadata": {},
   "outputs": [],
   "source": []
  }
 ],
 "metadata": {
  "kernelspec": {
   "display_name": "Python 3 (ipykernel)",
   "language": "python",
   "name": "python3"
  },
  "language_info": {
   "codemirror_mode": {
    "name": "ipython",
    "version": 3
   },
   "file_extension": ".py",
   "mimetype": "text/x-python",
   "name": "python",
   "nbconvert_exporter": "python",
   "pygments_lexer": "ipython3",
   "version": "3.9.18"
  }
 },
 "nbformat": 4,
 "nbformat_minor": 5
}
